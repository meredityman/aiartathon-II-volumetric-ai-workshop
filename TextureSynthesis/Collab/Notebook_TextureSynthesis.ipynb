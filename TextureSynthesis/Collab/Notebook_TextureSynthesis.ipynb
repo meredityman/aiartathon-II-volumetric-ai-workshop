{
  "nbformat": 4,
  "nbformat_minor": 0,
  "metadata": {
    "colab": {
      "name": "Notebook-TextureSynthesis",
      "private_outputs": true,
      "provenance": [],
      "collapsed_sections": [],
      "authorship_tag": "ABX9TyNzVZyNewO6F2kMiNo28MC9",
      "include_colab_link": true
    },
    "kernelspec": {
      "name": "python3",
      "display_name": "Python 3"
    },
    "language_info": {
      "name": "python"
    },
    "accelerator": "GPU"
  },
  "cells": [
    {
      "cell_type": "markdown",
      "metadata": {
        "id": "view-in-github",
        "colab_type": "text"
      },
      "source": [
        "<a href=\"https://colab.research.google.com/github/meredityman/aiartathon-II-volumetric-ai-workshop/blob/main/TextureSynthesis/Notebook_TextureSynthesis.ipynb\" target=\"_parent\"><img src=\"https://colab.research.google.com/assets/colab-badge.svg\" alt=\"Open In Colab\"/></a>"
      ]
    },
    {
      "cell_type": "markdown",
      "metadata": {
        "id": "bWvKLzYEY2EZ"
      },
      "source": [
        "## Clone Repo"
      ]
    },
    {
      "cell_type": "code",
      "metadata": {
        "id": "vzUU5AkRTfjj"
      },
      "source": [
        "!git clone https://github.com/valentin-deschaintre/Single-Image-SVBRDF-Capture-rendering-loss\n",
        "%cd /content/Single-Image-SVBRDF-Capture-rendering-loss"
      ],
      "execution_count": null,
      "outputs": []
    },
    {
      "cell_type": "code",
      "metadata": {
        "id": "NeWVBhf1VxlH"
      },
      "source": [
        "%tensorflow_version 1.x\n",
        "%env TF_CPP_MIN_LOG_LEVEL=3"
      ],
      "execution_count": null,
      "outputs": []
    },
    {
      "cell_type": "code",
      "metadata": {
        "id": "NYl7shQEUZPO"
      },
      "source": [
        "!wget https://repo-sam.inria.fr/fungraph/deep-materials/InferenceCode_DeepMaterials.zip\n",
        "!unzip -o InferenceCode_DeepMaterials.zip\n",
        "!rm InferenceCode_DeepMaterials.zip"
      ],
      "execution_count": null,
      "outputs": []
    },
    {
      "cell_type": "markdown",
      "metadata": {
        "id": "8q_RCXPVY59F"
      },
      "source": [
        "## Setup Datasource"
      ]
    },
    {
      "cell_type": "code",
      "metadata": {
        "id": "dxeWO0Zl3L9J"
      },
      "source": [
        "from google.colab import drive\n",
        "drive.mount('/content/gdrive')\n",
        "input_path = '\"/content/gdrive/MyDrive/SHARED/AI Artathon 2/Textures\"'"
      ],
      "execution_count": null,
      "outputs": []
    },
    {
      "cell_type": "code",
      "metadata": {
        "id": "8g0lcbmY3xO_"
      },
      "source": [
        "!rm -r /content/data\n",
        "!mkdir /content/data\n",
        "!cp $input_path/*.png /content/data/"
      ],
      "execution_count": null,
      "outputs": []
    },
    {
      "cell_type": "code",
      "metadata": {
        "id": "Uz2W-Xf1_Kzb"
      },
      "source": [
        "!ls $input_path"
      ],
      "execution_count": null,
      "outputs": []
    },
    {
      "cell_type": "markdown",
      "metadata": {
        "id": "JyB6IfZmYy1n"
      },
      "source": [
        "## Run Inference"
      ]
    },
    {
      "cell_type": "code",
      "metadata": {
        "id": "HCCVG-qwUJHr"
      },
      "source": [
        "!rm -r examples_outputs\n",
        "!python3 material_net.py --input_dir  /content/data/ --output_dir examples_outputs --mode eval --checkpoint InferenceCode_DeepMaterials --imageFormat png --scale_size 256 --batch_size 1"
      ],
      "execution_count": null,
      "outputs": []
    },
    {
      "cell_type": "markdown",
      "metadata": {
        "id": "BoYPuxGhYsnK"
      },
      "source": [
        "## Zip up results"
      ]
    },
    {
      "cell_type": "code",
      "metadata": {
        "id": "Cw2Y_4yLWGjJ"
      },
      "source": [
        "%cd /content/Single-Image-SVBRDF-Capture-rendering-loss/examples_outputs/images\n",
        "!zip -v /content/output.zip *.*"
      ],
      "execution_count": null,
      "outputs": []
    }
  ]
}